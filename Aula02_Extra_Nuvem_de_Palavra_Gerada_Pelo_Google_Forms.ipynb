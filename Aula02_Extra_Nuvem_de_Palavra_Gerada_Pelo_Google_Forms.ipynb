{
  "nbformat": 4,
  "nbformat_minor": 0,
  "metadata": {
    "colab": {
      "name": "Aula02_Extra_Nuvem_de_Palavra_Gerada_Pelo_Google_Forms.ipynb",
      "provenance": [],
      "collapsed_sections": [],
      "include_colab_link": true
    },
    "kernelspec": {
      "name": "python3",
      "display_name": "Python 3"
    },
    "language_info": {
      "name": "python"
    }
  },
  "cells": [
    {
      "cell_type": "markdown",
      "metadata": {
        "id": "view-in-github",
        "colab_type": "text"
      },
      "source": [
        "<a href=\"https://colab.research.google.com/github/profandersonvanin01/python_introducao/blob/main/Aula02_Extra_Nuvem_de_Palavra_Gerada_Pelo_Google_Forms.ipynb\" target=\"_parent\"><img src=\"https://colab.research.google.com/assets/colab-badge.svg\" alt=\"Open In Colab\"/></a>"
      ]
    },
    {
      "cell_type": "markdown",
      "metadata": {
        "id": "ZSzy8ouLxonn"
      },
      "source": [
        "# Nuvem de Palavra- Inscrições do Curso - Frases de Vocês..."
      ]
    },
    {
      "cell_type": "code",
      "metadata": {
        "id": "ezwjLi32y6Ro"
      },
      "source": [
        "import pandas as pd #Biblioteca responsável para fazer a leitura e impressão de bases de dados"
      ],
      "execution_count": null,
      "outputs": []
    },
    {
      "cell_type": "code",
      "source": [
        "# esse código permite que o notebook acesse seu documento xls qu está no seu Drive\n",
        "from google.colab import drive\n",
        "drive.mount('/content/drive')"
      ],
      "metadata": {
        "id": "d6iFhAtnOxi0"
      },
      "execution_count": null,
      "outputs": []
    },
    {
      "cell_type": "markdown",
      "metadata": {
        "id": "wPeo6sh37hoo"
      },
      "source": [
        "### Veja neste video como armazenar uma planilha excel no Github ou no drive para usar como base de dados no COLAB##"
      ]
    },
    {
      "cell_type": "markdown",
      "source": [
        "**Aqui nesse link pode aprender como pegar uma planilha do google forms e aproveitar para fazer análise de dados**\n",
        "\n",
        "https://agirweb.com.br/passos-para-criar-uma-base-de-dados-por-google-forms/\n",
        "\n",
        "\n",
        "**Essa playlist mostra como salvar planilha xls aquivo no drive, converter para csv e depois salvar no drive e github.**\n",
        "\n",
        "https://www.youtube.com/watch?v=kKFe7ZxHLEE&list=PLLxTDONTQvEd8Eew7MdT1YZppalFeh4E2"
      ],
      "metadata": {
        "id": "-61wEvQiD55N"
      }
    },
    {
      "cell_type": "code",
      "metadata": {
        "id": "ld5_TWLAyLzC"
      },
      "source": [
        "#usando base do Github\n",
        "basedogit = pd.read_csv('https://raw.githubusercontent.com/profandersonvanin01/python_introducao/main/pesquisa2022.csv',encoding='utf-8')\n",
        "\n",
        "#usando base do Drive\n",
        "basedodrive = pd.read_csv('/content/drive/MyDrive/baseDados/pesquisa2022.csv',encoding='utf-8')\n"
      ],
      "execution_count": null,
      "outputs": []
    },
    {
      "cell_type": "code",
      "source": [
        "basedogit.head()"
      ],
      "metadata": {
        "id": "hjTaMMlgPtkn"
      },
      "execution_count": null,
      "outputs": []
    },
    {
      "cell_type": "code",
      "source": [
        "#só para mostrar que as duas formas funciona\n",
        "basedodrive.head()"
      ],
      "metadata": {
        "id": "OEbjWn8oPyCa"
      },
      "execution_count": null,
      "outputs": []
    },
    {
      "cell_type": "markdown",
      "source": [
        "## Pegando somente a coluna que interessa para nuvens de palavras"
      ],
      "metadata": {
        "id": "rCb1WOXdBdcl"
      }
    },
    {
      "cell_type": "code",
      "source": [
        "#pega somente uma coluna\n",
        "basedogit = basedogit[['motivacao']]"
      ],
      "metadata": {
        "id": "1VfpqSw9Bo19"
      },
      "execution_count": null,
      "outputs": []
    },
    {
      "cell_type": "code",
      "source": [
        "basedogit"
      ],
      "metadata": {
        "id": "vjzJU2kkFXYt"
      },
      "execution_count": null,
      "outputs": []
    },
    {
      "cell_type": "code",
      "metadata": {
        "id": "QR1yqSXGRONH"
      },
      "source": [
        "#biblioteca de PLN\n",
        "import spacy\n",
        "#BIBLIOTECA PARA TRATAR EXPRESSÕES REGULARES, TIRAR CARACTERES ESPECÍFICOS DO TEXTO\n",
        "import re"
      ],
      "execution_count": null,
      "outputs": []
    },
    {
      "cell_type": "code",
      "metadata": {
        "id": "DfnwTrsDRen1"
      },
      "source": [
        "#importano especificações em português\n",
        "!python -m spacy download pt"
      ],
      "execution_count": null,
      "outputs": []
    },
    {
      "cell_type": "code",
      "metadata": {
        "id": "F3EkS9hSRp3V"
      },
      "source": [
        "#carregado o que foi baixado em pln\n",
        "pln = spacy.load('pt')"
      ],
      "execution_count": null,
      "outputs": []
    },
    {
      "cell_type": "code",
      "metadata": {
        "id": "bxWWxz_TRsDv"
      },
      "source": [
        "#pegando as stopwords em português que já tem na biblioteca do spacy\n",
        "from spacy.lang.pt.stop_words import STOP_WORDS\n",
        "stop_words = STOP_WORDS"
      ],
      "execution_count": null,
      "outputs": []
    },
    {
      "cell_type": "markdown",
      "source": [
        "## As Stop Words são palavras que não necessitam ser indexadas, por possui pouco significado, tais como preposições, artigos, conjunções e outros. Vamos retorar do nosso texto para a nuvem de palavras trazer realmente as palavras de maior significado."
      ],
      "metadata": {
        "id": "inwKDtehGheF"
      }
    },
    {
      "cell_type": "code",
      "source": [
        "#veja os exemplos\n",
        "stop_words"
      ],
      "metadata": {
        "id": "ubiCFzIPGfU1"
      },
      "execution_count": null,
      "outputs": []
    },
    {
      "cell_type": "code",
      "source": [
        "'e' in stop_words"
      ],
      "metadata": {
        "id": "T6yVIZLbVjg2"
      },
      "execution_count": null,
      "outputs": []
    },
    {
      "cell_type": "code",
      "source": [
        "# acrescentar artigos\n",
        "pln.Defaults.stop_words.add(\"e\")"
      ],
      "metadata": {
        "id": "2lfB_sOIVob-"
      },
      "execution_count": null,
      "outputs": []
    },
    {
      "cell_type": "code",
      "source": [
        "'e' in stop_words"
      ],
      "metadata": {
        "id": "dEJKOqBHWn0_"
      },
      "execution_count": null,
      "outputs": []
    },
    {
      "cell_type": "code",
      "source": [
        "# acrescentar artigos\n",
        "pln.Defaults.stop_words.add(\"e\") # assim acrescenta somente uma palavra\n",
        "# assim acrescenta várias ao mesmo tempo\n",
        "pln.Defaults.stop_words |= {\"o\",\"é\", \"um\",\"em\",\"de\", \"uma\",\"para\",\"na\", \"a\",\"acho\",\"posso\"}"
      ],
      "metadata": {
        "id": "GE72GhvmWqNm"
      },
      "execution_count": null,
      "outputs": []
    },
    {
      "cell_type": "code",
      "source": [
        "#Pegando toda a coluna, juntando tudo e convertendo em um texto só\n",
        "motivacao = basedogit['motivacao'].values #pega somente os valores da coluna\n",
        "juntandotudo = '' #cria uma variável vazia\n",
        "for sentimento in motivacao: # pega cada palavra da base de dados \n",
        "  juntandotudo += sentimento+\" \" # e vai unido dento da variável com um espaço fazio entre elas"
      ],
      "metadata": {
        "id": "aTz6ReBhJvYe"
      },
      "execution_count": null,
      "outputs": []
    },
    {
      "cell_type": "code",
      "source": [
        "juntandotudo"
      ],
      "metadata": {
        "id": "N_Zoo3v-KAdZ"
      },
      "execution_count": null,
      "outputs": []
    },
    {
      "cell_type": "code",
      "source": [
        "#separa cada palavra ou caractere do texto\n",
        "texto = juntandotudo.split()"
      ],
      "metadata": {
        "id": "Gr1ztO-AKxnS"
      },
      "execution_count": null,
      "outputs": []
    },
    {
      "cell_type": "code",
      "source": [
        "texto"
      ],
      "metadata": {
        "id": "mYhbB_xGLDAr"
      },
      "execution_count": null,
      "outputs": []
    },
    {
      "cell_type": "code",
      "source": [
        "texto_sem_stop=''\n",
        "for palavra in texto:  \n",
        "  if palavra not in stop_words:\n",
        "    texto_sem_stop += palavra+\" \""
      ],
      "metadata": {
        "id": "uuR9KtzkHPzT"
      },
      "execution_count": null,
      "outputs": []
    },
    {
      "cell_type": "code",
      "source": [
        "texto_sem_stop"
      ],
      "metadata": {
        "id": "0r_42g3AVH8r"
      },
      "execution_count": null,
      "outputs": []
    },
    {
      "cell_type": "code",
      "metadata": {
        "id": "Qae1vaHvTc_R"
      },
      "source": [
        "from wordcloud import WordCloud\n",
        "import matplotlib.pyplot as plt\n",
        "plt.figure(figsize=(20,20))\n",
        "plt.axis('off')\n",
        "plt.imshow(WordCloud().generate(texto_sem_stop))"
      ],
      "execution_count": null,
      "outputs": []
    },
    {
      "cell_type": "markdown",
      "metadata": {
        "id": "QWp8VpYnQ4Tn"
      },
      "source": [
        ""
      ]
    }
  ]
}