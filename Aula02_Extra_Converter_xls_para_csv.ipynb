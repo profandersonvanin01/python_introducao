{
  "cells": [
    {
      "cell_type": "markdown",
      "metadata": {
        "id": "view-in-github",
        "colab_type": "text"
      },
      "source": [
        "<a href=\"https://colab.research.google.com/github/profandersonvanin01/python_introducao/blob/main/Aula02_Extra_Converter_xls_para_csv.ipynb\" target=\"_parent\"><img src=\"https://colab.research.google.com/assets/colab-badge.svg\" alt=\"Open In Colab\"/></a>"
      ]
    },
    {
      "cell_type": "markdown",
      "metadata": {
        "id": "9BkDvFAJ45WU"
      },
      "source": [
        "# CONVERTER XLS PARA CSV\n",
        "## Arquivo disponibilizado no Github , aqui na descrição do vídeo."
      ]
    },
    {
      "cell_type": "code",
      "source": [
        "# esse código permite que o notebook acesse seu documento xls qu está no seu Drive\n",
        "from google.colab import drive\n",
        "drive.mount('/content/drive')"
      ],
      "metadata": {
        "colab": {
          "base_uri": "https://localhost:8080/"
        },
        "id": "Avvg0V7C481-",
        "outputId": "f2d0d48b-794b-4450-98ec-9b5901f9cf40"
      },
      "execution_count": null,
      "outputs": [
        {
          "output_type": "stream",
          "name": "stdout",
          "text": [
            "Drive already mounted at /content/drive; to attempt to forcibly remount, call drive.mount(\"/content/drive\", force_remount=True).\n"
          ]
        }
      ]
    },
    {
      "cell_type": "code",
      "execution_count": null,
      "metadata": {
        "id": "E_sh1f-n45Wu"
      },
      "outputs": [],
      "source": [
        "import pandas as pd\n",
        "#endereço do notebook que está no seu drive\n",
        "read_file = pd.read_excel(r'/content/drive/MyDrive/baseDados/pesquisa2022.xlsx')\n",
        "#endereço de onde quer salvar seu csv no seu drive\n",
        "read_file.to_csv (r'/content/drive/MyDrive/baseDados/pesquisa2022.csv', index = None, header = True)"
      ]
    },
    {
      "cell_type": "code",
      "source": [
        ""
      ],
      "metadata": {
        "id": "7fCHjmT-kpQe"
      },
      "execution_count": null,
      "outputs": []
    },
    {
      "cell_type": "code",
      "execution_count": null,
      "metadata": {
        "id": "hx12oyqi45W1"
      },
      "outputs": [],
      "source": [
        ""
      ]
    }
  ],
  "metadata": {
    "kernelspec": {
      "display_name": "Python 3",
      "language": "python",
      "name": "python3"
    },
    "language_info": {
      "codemirror_mode": {
        "name": "ipython",
        "version": 3
      },
      "file_extension": ".py",
      "mimetype": "text/x-python",
      "name": "python",
      "nbconvert_exporter": "python",
      "pygments_lexer": "ipython3",
      "version": "3.8.5"
    },
    "colab": {
      "name": "Aula02_Extra_Converter_xls_para_csv.ipynb",
      "provenance": [],
      "include_colab_link": true
    }
  },
  "nbformat": 4,
  "nbformat_minor": 0
}