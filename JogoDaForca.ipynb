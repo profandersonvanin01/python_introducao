{
  "nbformat": 4,
  "nbformat_minor": 0,
  "metadata": {
    "colab": {
      "name": "JogoDaForca.ipynb",
      "provenance": [],
      "authorship_tag": "ABX9TyNXv4WagJnCRnodx7AyxBTw",
      "include_colab_link": true
    },
    "kernelspec": {
      "name": "python3",
      "display_name": "Python 3"
    },
    "language_info": {
      "name": "python"
    }
  },
  "cells": [
    {
      "cell_type": "markdown",
      "metadata": {
        "id": "view-in-github",
        "colab_type": "text"
      },
      "source": [
        "<a href=\"https://colab.research.google.com/github/profandersonvanin01/python_introducao/blob/main/JogoDaForca.ipynb\" target=\"_parent\"><img src=\"https://colab.research.google.com/assets/colab-badge.svg\" alt=\"Open In Colab\"/></a>"
      ]
    },
    {
      "cell_type": "code",
      "execution_count": 5,
      "metadata": {
        "id": "JCakl6oOVPcv"
      },
      "outputs": [],
      "source": [
        "import random"
      ]
    },
    {
      "cell_type": "code",
      "source": [
        "def imprime_mensagem_abertura():\n",
        "    print(\"*********************************\")\n",
        "    print(\"***Bem vindo ao jogo da Forca!***\")\n",
        "    print(\"*********************************\")"
      ],
      "metadata": {
        "id": "vx00604aVfi8"
      },
      "execution_count": 6,
      "outputs": []
    },
    {
      "cell_type": "code",
      "source": [
        "def carrega_palavra_secreta():\n",
        "    palavras = []\n",
        "    with open(\"/content/palavras.txt\", \"r\", encoding=\"utf-8\") as arquivo:\n",
        "        for linha in arquivo:\n",
        "            linha = linha.strip()\n",
        "            palavras.append(linha)\n",
        "\n",
        "    numero = random.randrange(0, len(palavras))\n",
        "    palavra_secreta = palavras[numero].upper()\n",
        "    return palavra_secreta"
      ],
      "metadata": {
        "id": "30HBzAJCY4EY"
      },
      "execution_count": 7,
      "outputs": []
    },
    {
      "cell_type": "code",
      "source": [
        "carrega_palavra_secreta()"
      ],
      "metadata": {
        "colab": {
          "base_uri": "https://localhost:8080/",
          "height": 35
        },
        "id": "yprzMAnYZLfc",
        "outputId": "7bc22e94-4d51-4a3d-a29a-ceff605a94b8"
      },
      "execution_count": 19,
      "outputs": [
        {
          "output_type": "execute_result",
          "data": {
            "text/plain": [
              "'ALUNO'"
            ],
            "application/vnd.google.colaboratory.intrinsic+json": {
              "type": "string"
            }
          },
          "metadata": {},
          "execution_count": 19
        }
      ]
    },
    {
      "cell_type": "code",
      "source": [
        "def inicializa_letras_acertadas(palavra):\n",
        "    return [\"_\" for letra in palavra]"
      ],
      "metadata": {
        "id": "2jTmQ5qAY16M"
      },
      "execution_count": 20,
      "outputs": []
    },
    {
      "cell_type": "code",
      "source": [
        "def pede_chute():\n",
        "    chute = input(\"Qual letra? \")\n",
        "    chute = chute.strip().upper()\n",
        "    return chute"
      ],
      "metadata": {
        "id": "VtZ3zEw6Y0AZ"
      },
      "execution_count": 21,
      "outputs": []
    },
    {
      "cell_type": "code",
      "source": [
        "def marca_chute_correto(chute, letras_acertadas, palavra_secreta):\n",
        "    index = 0\n",
        "    for letra in palavra_secreta:\n",
        "        if (chute == letra):\n",
        "            letras_acertadas[index] = letra\n",
        "        index += 1"
      ],
      "metadata": {
        "id": "G93Fw7TnYyEN"
      },
      "execution_count": 22,
      "outputs": []
    },
    {
      "cell_type": "code",
      "source": [
        "def imprime_mensagem_vencedor():\n",
        "    print(\"Parabéns, você ganhou!\")\n",
        "    print(\"       ___________      \")\n",
        "    print(\"      '._==_==_=_.'     \")\n",
        "    print(\"      .-\\\\:      /-.    \")\n",
        "    print(\"     | (|:.     |) |    \")\n",
        "    print(\"      '-|:.     |-'     \")\n",
        "    print(\"        \\\\::.    /      \")\n",
        "    print(\"         '::. .'        \")\n",
        "    print(\"           ) (          \")\n",
        "    print(\"         _.' '._        \")\n",
        "    print(\"        '-------'       \")"
      ],
      "metadata": {
        "id": "xHYmhPAvYwAa"
      },
      "execution_count": 23,
      "outputs": []
    },
    {
      "cell_type": "code",
      "source": [
        "def imprime_mensagem_perdedor(palavra_secreta):\n",
        "    print(\"Puxa, você foi enforcado!\")\n",
        "    print(\"A palavra era {}\".format(palavra_secreta))\n",
        "    print(\"    _______________         \")\n",
        "    print(\"   /               \\       \")\n",
        "    print(\"  /                 \\      \")\n",
        "    print(\"//                   \\/\\  \")\n",
        "    print(\"\\|   XXXX     XXXX   | /   \")\n",
        "    print(\" |   XXXX     XXXX   |/     \")\n",
        "    print(\" |   XXX       XXX   |      \")\n",
        "    print(\" |                   |      \")\n",
        "    print(\" \\__      XXX      __/     \")\n",
        "    print(\"   |\\     XXX     /|       \")\n",
        "    print(\"   | |           | |        \")\n",
        "    print(\"   | I I I I I I I |        \")\n",
        "    print(\"   |  I I I I I I  |        \")\n",
        "    print(\"   \\_             _/       \")\n",
        "    print(\"     \\_         _/         \")\n",
        "    print(\"       \\_______/           \")"
      ],
      "metadata": {
        "id": "opJL-jYzYuAK"
      },
      "execution_count": 24,
      "outputs": []
    },
    {
      "cell_type": "code",
      "source": [
        "def desenha_forca(erros):\n",
        "    print(\"  _______     \")\n",
        "    print(\" |/      |    \")\n",
        "\n",
        "    if(erros == 1):\n",
        "        print(\" |      (_)   \")\n",
        "        print(\" |            \")\n",
        "        print(\" |            \")\n",
        "        print(\" |            \")\n",
        "\n",
        "    if(erros == 2):\n",
        "        print(\" |      (_)   \")\n",
        "        print(\" |      \\     \")\n",
        "        print(\" |            \")\n",
        "        print(\" |            \")\n",
        "\n",
        "    if(erros == 3):\n",
        "        print(\" |      (_)   \")\n",
        "        print(\" |      \\|    \")\n",
        "        print(\" |            \")\n",
        "        print(\" |            \")\n",
        "\n",
        "    if(erros == 4):\n",
        "        print(\" |      (_)   \")\n",
        "        print(\" |      \\|/   \")\n",
        "        print(\" |            \")\n",
        "        print(\" |            \")\n",
        "\n",
        "    if(erros == 5):\n",
        "        print(\" |      (_)   \")\n",
        "        print(\" |      \\|/   \")\n",
        "        print(\" |       |    \")\n",
        "        print(\" |            \")\n",
        "\n",
        "    if(erros == 6):\n",
        "        print(\" |      (_)   \")\n",
        "        print(\" |      \\|/   \")\n",
        "        print(\" |       |    \")\n",
        "        print(\" |      /     \")\n",
        "\n",
        "    if (erros == 7):\n",
        "        print(\" |      (_)   \")\n",
        "        print(\" |      \\|/   \")\n",
        "        print(\" |       |    \")\n",
        "        print(\" |      / \\   \")\n",
        "\n",
        "    print(\" |            \")\n",
        "    print(\"_|___         \")\n",
        "    print()"
      ],
      "metadata": {
        "id": "7rgTwxTVYqED"
      },
      "execution_count": 25,
      "outputs": []
    },
    {
      "cell_type": "code",
      "source": [
        "def jogar():\n",
        "\n",
        "    imprime_mensagem_abertura()\n",
        "\n",
        "    palavra_secreta = carrega_palavra_secreta()\n",
        "\n",
        "    letras_acertadas = inicializa_letras_acertadas(palavra_secreta)\n",
        "\n",
        "    enforcou = False\n",
        "    acertou = False\n",
        "    erros = 0\n",
        "    letras_faltando = len(letras_acertadas)\n",
        "\n",
        "    print(letras_acertadas)\n",
        "    while (not acertou and not enforcou):\n",
        "\n",
        "        chute = pede_chute()\n",
        "\n",
        "        if (chute in palavra_secreta):\n",
        "            marca_chute_correto(chute, letras_acertadas, palavra_secreta)\n",
        "            letras_faltando = str(letras_acertadas.count('_'))\n",
        "            if (letras_faltando == \"0\"):\n",
        "                print(\"PARABÉNS!! Você encontrou todas as letras formando a palavra '{}'\".format(palavra_secreta.upper()))\n",
        "        else:\n",
        "            erros += 1\n",
        "            print(letras_acertadas)\n",
        "            print('Ainda faltam acertar {} letras'.format(letras_faltando))\n",
        "            print('Você ainda tem {} tentativas'.format(7-erros))\n",
        "            desenha_forca(erros)\n",
        "\n",
        "        enforcou = erros == 7\n",
        "        acertou = \"_\" not in letras_acertadas\n",
        "\n",
        "        print(letras_acertadas)\n",
        "\n",
        "    if (acertou):\n",
        "        imprime_mensagem_vencedor()\n",
        "    else:\n",
        "        imprime_mensagem_perdedor(palavra_secreta)\n",
        "\n",
        "    print(\"Fim do jogo\")"
      ],
      "metadata": {
        "id": "52sP3fMAYmxZ"
      },
      "execution_count": 26,
      "outputs": []
    },
    {
      "cell_type": "code",
      "source": [
        "jogar()"
      ],
      "metadata": {
        "colab": {
          "base_uri": "https://localhost:8080/"
        },
        "id": "sbvs1TtrYj5c",
        "outputId": "2b46d4b9-3766-41a4-f7bf-66066396dcd8"
      },
      "execution_count": 27,
      "outputs": [
        {
          "output_type": "stream",
          "name": "stdout",
          "text": [
            "*********************************\n",
            "***Bem vindo ao jogo da Forca!***\n",
            "*********************************\n",
            "['_', '_', '_', '_', '_', '_', '_', '_', '_', '_', '_']\n",
            "Qual letra? a\n",
            "['_', '_', '_', '_', '_', '_', 'A', '_', '_', '_', 'A']\n",
            "Qual letra? e\n",
            "['_', '_', '_', '_', '_', '_', 'A', '_', '_', '_', 'A']\n",
            "Ainda faltam acertar 9 letras\n",
            "Você ainda tem 6 tentativas\n",
            "  _______     \n",
            " |/      |    \n",
            " |      (_)   \n",
            " |            \n",
            " |            \n",
            " |            \n",
            " |            \n",
            "_|___         \n",
            "\n",
            "['_', '_', '_', '_', '_', '_', 'A', '_', '_', '_', 'A']\n",
            "Qual letra? t\n",
            "['_', '_', '_', '_', '_', '_', 'A', 'T', '_', '_', 'A']\n",
            "Qual letra? i\n",
            "['I', '_', '_', '_', '_', '_', 'A', 'T', 'I', '_', 'A']\n",
            "Qual letra? n\n",
            "['I', 'N', '_', '_', '_', '_', 'A', 'T', 'I', '_', 'A']\n",
            "Qual letra? f\n",
            "['I', 'N', 'F', '_', '_', '_', 'A', 'T', 'I', '_', 'A']\n",
            "Qual letra? o\n",
            "['I', 'N', 'F', 'O', '_', '_', 'A', 'T', 'I', '_', 'A']\n",
            "Qual letra? r\n",
            "['I', 'N', 'F', 'O', 'R', '_', 'A', 'T', 'I', '_', 'A']\n",
            "Qual letra? m\n",
            "['I', 'N', 'F', 'O', 'R', 'M', 'A', 'T', 'I', '_', 'A']\n",
            "Qual letra? c\n",
            "PARABÉNS!! Você encontrou todas as letras formando a palavra 'INFORMATICA'\n",
            "['I', 'N', 'F', 'O', 'R', 'M', 'A', 'T', 'I', 'C', 'A']\n",
            "Parabéns, você ganhou!\n",
            "       ___________      \n",
            "      '._==_==_=_.'     \n",
            "      .-\\:      /-.    \n",
            "     | (|:.     |) |    \n",
            "      '-|:.     |-'     \n",
            "        \\::.    /      \n",
            "         '::. .'        \n",
            "           ) (          \n",
            "         _.' '._        \n",
            "        '-------'       \n",
            "Fim do jogo\n"
          ]
        }
      ]
    }
  ]
}