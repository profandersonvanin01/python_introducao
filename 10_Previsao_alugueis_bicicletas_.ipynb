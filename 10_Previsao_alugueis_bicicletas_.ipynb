{
  "nbformat": 4,
  "nbformat_minor": 0,
  "metadata": {
    "colab": {
      "name": "10_Previsao_alugueis_bicicletas_.ipynb",
      "provenance": [],
      "collapsed_sections": [
        "ThXSUb5M_Lcf"
      ],
      "include_colab_link": true
    },
    "kernelspec": {
      "display_name": "Python 3",
      "language": "python",
      "name": "python3"
    },
    "language_info": {
      "codemirror_mode": {
        "name": "ipython",
        "version": 3
      },
      "file_extension": ".py",
      "mimetype": "text/x-python",
      "name": "python",
      "nbconvert_exporter": "python",
      "pygments_lexer": "ipython3",
      "version": "3.8.5"
    }
  },
  "cells": [
    {
      "cell_type": "markdown",
      "metadata": {
        "id": "view-in-github",
        "colab_type": "text"
      },
      "source": [
        "<a href=\"https://colab.research.google.com/github/profandersonvanin01/python_introducao/blob/main/10_Previsao_alugueis_bicicletas_.ipynb\" target=\"_parent\"><img src=\"https://colab.research.google.com/assets/colab-badge.svg\" alt=\"Open In Colab\"/></a>"
      ]
    },
    {
      "cell_type": "markdown",
      "metadata": {
        "id": "iZvp3vgVHtpF"
      },
      "source": [
        "#REGRESSÃO LINEAR - PREVENDO ALUGUEL DE BICICLETAS"
      ]
    },
    {
      "cell_type": "markdown",
      "metadata": {
        "id": "jt3f9kGaJ_cp"
      },
      "source": [
        "Um dos modelos de machine learning mais famosos é a Regressão linear, mas você sabe o que ele é e como funciona?\n",
        "\n",
        "O termo **“Regressão” **surgiu em 1885 com o antropólogo, matemático e estatístico **Francis Galton**. As primeiras aplicações do método surgiram na Antropometria, ou seja, estudo das medidas e da matemática dos corpos humanos.\n",
        "Ao estudar as **estaturas de pais e filhos**, Galton observou que **filhos de pais com altura baixa em relação à média tendem a ser mais altos que seus pais**, e **filhos de pais com estatura alta em relação à média tendem a ser mais baixos que seus pais**, ou seja, as alturas dos seres humanos em geral **tendem a regredir à média.**\n",
        "\n",
        "Regressão linear é um tipo de algoritmo supervisionado, portanto antes de entender como funciona o algoritmo é importante conhecer o que seria aprendizado supervisionado.\n",
        "\n",
        "**Conceitos importantes**\n",
        "\n",
        "Antes de prosseguir, há alguns conceitos importantes que precisam estar bem claros na sua mente.\n",
        "\n",
        "**Variável independente ou preditora**: é aquela que será passada para o modelo, tendo influência na variável que queremos encontrar. Por exemplo: Se queremos prever as vendas de sorvete, a estação do ano pode interferir nas vendas.\n",
        "\n",
        "**Variável alvo ou dependente**: é a variável que queremos prever. No exemplo acima seria as vendas de sorvete."
      ]
    },
    {
      "cell_type": "markdown",
      "metadata": {
        "id": "u7qARC6RKeOq"
      },
      "source": [
        "O **aprendizado supervisionado** é aplicado quando tenta encontrar a relação entre a variável de alvo e as variáveis independentes.\n",
        "\n",
        "Uma das características mais importantes neste aprendizado é que os dados usados no treino do modelo devem ser “rotulados”, ou seja, nos dados de treino eu preciso ter os dados anotados com o valores corretos e nós sabemos do resultado de saída.\n",
        "\n",
        "Esse tipo de aprendizado é aplicado em 2 tipos de problemas: **Classificação e Regressão**.\n",
        "\n",
        "Um modelo de machine learning aprende os padrões dos dados e cria matematicamente uma função para gerar previsões, portanto pode-se afirmar que em algoritmos supervisionados é gerado uma  função para gerar os valores de resposta."
      ]
    },
    {
      "cell_type": "markdown",
      "metadata": {
        "id": "zJVTMpnALTXE"
      },
      "source": [
        "**Regressão Linear**\n",
        "Regressão linear é um algoritmo supervisionado de machine learning usado para estimar o valor de algo baseado em uma série de outros dados históricos, portanto olhando para o passado você pode “prever” o futuro.\n",
        "\n",
        "Fonte: Laura Damaceno"
      ]
    },
    {
      "cell_type": "markdown",
      "metadata": {
        "id": "_9NEEE6iz-EX"
      },
      "source": [
        "# Importando as bibliotecas"
      ]
    },
    {
      "cell_type": "code",
      "metadata": {
        "id": "EjkkDieez3nQ"
      },
      "source": [
        "import pandas as pd\n",
        "import numpy as np\n",
        "import matplotlib.pyplot as plt\n",
        "import seaborn as sns\n",
        "from sklearn.linear_model import LinearRegression\n",
        "from sklearn.metrics import mean_squared_error\n",
        "from sklearn.tree import DecisionTreeRegressor\n",
        "from sklearn.ensemble import RandomForestRegressor\n",
        "%matplotlib inline"
      ],
      "execution_count": null,
      "outputs": []
    },
    {
      "cell_type": "markdown",
      "metadata": {
        "id": "fTGrZGAo0tCz"
      },
      "source": [
        "# Carregando a base de dados"
      ]
    },
    {
      "cell_type": "code",
      "metadata": {
        "id": "SdNj4tzTQMMb"
      },
      "source": [
        "#essa célula permite acesso ao drive\n",
        "from google.colab import drive\n",
        "drive.mount('/content/drive')"
      ],
      "execution_count": null,
      "outputs": []
    },
    {
      "cell_type": "code",
      "metadata": {
        "id": "hiarjDaS0yZN"
      },
      "source": [
        "#bike_rentals = pd.read_csv(\"/content/drive/MyDrive/Colab Notebooks/bikePrevisao/bike_rental_hour.csv\")\n",
        "bike_rentals = pd.read_csv(\"https://raw.githubusercontent.com/profcintiapinho/laboratorio_ia/main/bike_rental_hour.csv\")"
      ],
      "execution_count": null,
      "outputs": []
    },
    {
      "cell_type": "markdown",
      "metadata": {
        "id": "SKfS4KHx105X"
      },
      "source": [
        "## Visualizando os primeiros registros da base"
      ]
    },
    {
      "cell_type": "code",
      "metadata": {
        "id": "gfKBynUL17LE"
      },
      "source": [
        "bike_rentals.shape"
      ],
      "execution_count": null,
      "outputs": []
    },
    {
      "cell_type": "code",
      "metadata": {
        "id": "ojKvRosPTQ_C"
      },
      "source": [
        "bike_rentals"
      ],
      "execution_count": null,
      "outputs": []
    },
    {
      "cell_type": "markdown",
      "metadata": {
        "id": "-xAui9TH2Ka1"
      },
      "source": [
        "Entendendo a base de dados:\n",
        "\n",
        "*   instant: índice de registro\n",
        "*   dteday: data\n",
        "*   season: estação do ano (1:inverno,2:primavera,3:verão,4:outono)\n",
        "*   yr: ano (0:2011, 1:2012)\n",
        "*   mnth: mês (1 a 12)\n",
        "*   hr: hora (0 a 23)\n",
        "*   holiday: o dia com clima é feriado ou não \n",
        "*   weekday: dia da semana\n",
        "*   workingday: se o dia não for final de semana nem feriado, for 1, caso contrário será 0 - equivalente ao dia útil\n",
        "*   weathersit: tempo\n",
        "1.   limpo, poucas nuvens, parcialmente nublado\n",
        "2.   névoa + nublado, névoa+nuvens partidas, névoa+poucas nuvens, névoa\n",
        "3.   neve fraca, chuva fraca+trovoada+nuvens dispersas, chuva fraca+nuvens dispersas\n",
        "4.   chuva forte + paletes de gelo + trovoada + névoa, neve + nevoeiro\n",
        "*   temp: temperatura normalizada em graus Célsius. Os valores são derivados de (t-t_min)/(t_max-t_min), t_min=-8, t_max=+39 (apenas na escala horária)\n",
        "*   atemp: temperatura normal de sensação em graus Célsius. Os valores são derivados de (t-t_min)/(t_max-t_min), t_min=-16, t_max=+50 (apenas na escala horária)\n",
        "*   hum: umidade normalizada. Os valores são divididos em 100 (máximo)\n",
        "*   windspeed: velocidade do vento normalizada. Os valores são divididos em 67 (máximo)\n",
        "*   casual: número de usuários casuais\n",
        "*   registered: número de usuários registrados\n",
        "*   cnt: contagem do total de bicicletas alugadas, incluindo bicicletas causais e registradas\n",
        "\n",
        "\n",
        "\n",
        "\n",
        "\n",
        "\n",
        "\n",
        "\n",
        "\n",
        "\n",
        "\n",
        "\n",
        "\n"
      ]
    },
    {
      "cell_type": "markdown",
      "metadata": {
        "id": "JxeeN3pt5R7G"
      },
      "source": [
        "Pré análise dos dados e Pré-processamento"
      ]
    },
    {
      "cell_type": "code",
      "metadata": {
        "id": "6M8janfi5Ydk"
      },
      "source": [
        "bike_rentals.describe()"
      ],
      "execution_count": null,
      "outputs": []
    },
    {
      "cell_type": "markdown",
      "metadata": {
        "id": "x_ridp-J5iAe"
      },
      "source": [
        "Distribuição do atributo cnt"
      ]
    },
    {
      "cell_type": "code",
      "metadata": {
        "id": "aTNk09jd5l3J"
      },
      "source": [
        "plt.figure(figsize=(12,8))\n",
        "sns.set_style('darkgrid')\n",
        "sns.displot(bike_rentals.cnt)"
      ],
      "execution_count": null,
      "outputs": []
    },
    {
      "cell_type": "code",
      "metadata": {
        "id": "IyM617SlWMyQ"
      },
      "source": [
        "# mostra a média de biciletas alugadas\n",
        "g = sns.boxplot(x=bike_rentals[\"cnt\"])"
      ],
      "execution_count": null,
      "outputs": []
    },
    {
      "cell_type": "code",
      "metadata": {
        "id": "Dr0pxcrtWpph"
      },
      "source": [
        "#Mostra a média de usuários casuais\n",
        "\n",
        "sns.distplot(bike_rentals.casual, bins=40)"
      ],
      "execution_count": null,
      "outputs": []
    },
    {
      "cell_type": "code",
      "metadata": {
        "id": "vxPOvU2VXZZC"
      },
      "source": [
        "g = sns.boxplot(x=bike_rentals[\"casual\"])"
      ],
      "execution_count": null,
      "outputs": []
    },
    {
      "cell_type": "code",
      "metadata": {
        "id": "1BEO0C4rWtbi"
      },
      "source": [
        "#Relação entre entre bicletas alugadas feriados e fim de semana(0) e dias da semana(1)\n",
        "sns.barplot(bike_rentals.workingday,bike_rentals.cnt)"
      ],
      "execution_count": null,
      "outputs": []
    },
    {
      "cell_type": "code",
      "metadata": {
        "id": "0NRvdCkFYyyM"
      },
      "source": [
        "#Relação entre entre bicletas alugas com os dias da semana\n",
        "sns.barplot(bike_rentals.weekday,bike_rentals.cnt)"
      ],
      "execution_count": null,
      "outputs": []
    },
    {
      "cell_type": "markdown",
      "metadata": {
        "id": "E0xdriex6Prt"
      },
      "source": [
        "Calculando a correlação entre as variáveis"
      ]
    },
    {
      "cell_type": "code",
      "metadata": {
        "id": "OpK_LIoo6UM7"
      },
      "source": [
        "corr = bike_rentals.corr()\n",
        "corr.style.background_gradient(cmap='coolwarm')"
      ],
      "execution_count": null,
      "outputs": []
    },
    {
      "cell_type": "code",
      "metadata": {
        "id": "nKp9dAP-ckzf"
      },
      "source": [
        "# Mapa de calor\n",
        "plt.figure(figsize = (10,10))\n",
        "cmap = sns.diverging_palette(220, 10, as_cmap=True)\n",
        "sns.heatmap(corr, xticklabels=corr.columns.values, yticklabels=corr.columns.values, cmap=cmap, vmax=.3, center=0, square=True, linewidths=.5, cbar_kws={\"shrink\": .82})\n",
        "plt.title('Heatmap of Correlation Matrix')"
      ],
      "execution_count": null,
      "outputs": []
    },
    {
      "cell_type": "markdown",
      "metadata": {
        "id": "6WRBbK6_6euR"
      },
      "source": [
        "A análise da correlação serve para verificar quais são os atributos que interessam mais. Assim podemos excluir aqueles que são menos importantes."
      ]
    },
    {
      "cell_type": "markdown",
      "metadata": {
        "id": "6N8Ef1vP61v3"
      },
      "source": [
        "Para isso, armazenamos os dados obtidos da correlação de todos os atributos em uma variável e depois comparamos com o atributo alvo (cnt)"
      ]
    },
    {
      "cell_type": "code",
      "metadata": {
        "id": "zhKKZx42606I"
      },
      "source": [
        "correlations = bike_rentals.corr()\n",
        "correlations['cnt']"
      ],
      "execution_count": null,
      "outputs": []
    },
    {
      "cell_type": "markdown",
      "metadata": {
        "id": "FgJFol8-7Su1"
      },
      "source": [
        "Excluindo os atributos que são subcategorias do atributo alvo: **casual**, **registered**, **instant** e do **tipo date**. Depois da exclusão, o dataframe é armazenado na variavel **columns**"
      ]
    },
    {
      "cell_type": "code",
      "metadata": {
        "id": "WtfR-4_b7IU4"
      },
      "source": [
        "columns = bike_rentals.columns.drop(['cnt','casual','dteday','registered','instant'])\n",
        "columns"
      ],
      "execution_count": null,
      "outputs": []
    },
    {
      "cell_type": "code",
      "metadata": {
        "id": "nD62bI_oVfIV"
      },
      "source": [
        ""
      ],
      "execution_count": null,
      "outputs": []
    },
    {
      "cell_type": "markdown",
      "metadata": {
        "id": "ahx1KI0b8NTK"
      },
      "source": [
        "# Utilizando Machine Learning para realizar a previsão"
      ]
    },
    {
      "cell_type": "markdown",
      "metadata": {
        "id": "GW9VJ_fj8UKm"
      },
      "source": [
        "Importando o método train_test_split para realizar a separação de dados em treino e teste"
      ]
    },
    {
      "cell_type": "code",
      "metadata": {
        "id": "j1x0zlV98d5X"
      },
      "source": [
        "from sklearn.model_selection import train_test_split"
      ],
      "execution_count": null,
      "outputs": []
    },
    {
      "cell_type": "markdown",
      "metadata": {
        "id": "1gitW9zw8lwc"
      },
      "source": [
        "Executando a separação dos dados em treino e teste"
      ]
    },
    {
      "cell_type": "code",
      "metadata": {
        "id": "VwL3Qto08stI"
      },
      "source": [
        "X_train,X_test,y_train,y_test = train_test_split(bike_rentals[columns],bike_rentals['cnt'], test_size=0.20, random_state=42)"
      ],
      "execution_count": null,
      "outputs": []
    },
    {
      "cell_type": "markdown",
      "metadata": {
        "id": "rcqTVxnH9nK-"
      },
      "source": [
        "Instanciando o algoritmo"
      ]
    },
    {
      "cell_type": "code",
      "metadata": {
        "id": "85L1MZdH9ppS"
      },
      "source": [
        "lr = LinearRegression()"
      ],
      "execution_count": null,
      "outputs": []
    },
    {
      "cell_type": "markdown",
      "metadata": {
        "id": "JovgQauD9unY"
      },
      "source": [
        "Treinando o algoritmo e gerando um modelo de regressão"
      ]
    },
    {
      "cell_type": "code",
      "metadata": {
        "id": "GoX9UbwM9yzR"
      },
      "source": [
        "model = lr.fit(X_train,y_train)"
      ],
      "execution_count": null,
      "outputs": []
    },
    {
      "cell_type": "markdown",
      "metadata": {
        "id": "dfUYZT1L99nV"
      },
      "source": [
        "Realizando a predição"
      ]
    },
    {
      "cell_type": "code",
      "metadata": {
        "id": "_hMmOuSs-AHu"
      },
      "source": [
        "resultado = model.predict(X_test)\n",
        "resultado"
      ],
      "execution_count": null,
      "outputs": []
    },
    {
      "cell_type": "markdown",
      "metadata": {
        "id": "GBjV3PmJ-Oj-"
      },
      "source": [
        "Calculando o erro médio quadrático"
      ]
    },
    {
      "cell_type": "code",
      "metadata": {
        "id": "eLfrr1sf-SAq"
      },
      "source": [
        "#mean_squared_error(y_test,resultado)"
      ],
      "execution_count": null,
      "outputs": []
    },
    {
      "cell_type": "markdown",
      "metadata": {
        "id": "L_d148kY-fm3"
      },
      "source": [
        "Computando o Score"
      ]
    },
    {
      "cell_type": "code",
      "metadata": {
        "id": "KQg6fzFf-hTI"
      },
      "source": [
        "model.score(X_test,y_test)"
      ],
      "execution_count": null,
      "outputs": []
    },
    {
      "cell_type": "markdown",
      "metadata": {
        "id": "A4jheioh-qpu"
      },
      "source": [
        "Comparando os resultados aplicando os dados de treinamento"
      ]
    },
    {
      "cell_type": "code",
      "metadata": {
        "id": "SmUqFuZN-lfJ"
      },
      "source": [
        "resultado_treino = model.predict(X_train)"
      ],
      "execution_count": null,
      "outputs": []
    },
    {
      "cell_type": "code",
      "metadata": {
        "id": "wLjkbhZA-3zW"
      },
      "source": [
        "#mean_squared_error(y_train,resultado_treino)"
      ],
      "execution_count": null,
      "outputs": []
    },
    {
      "cell_type": "code",
      "metadata": {
        "id": "TiwqTLFj-93v"
      },
      "source": [
        "model.score(X_train,y_train)"
      ],
      "execution_count": null,
      "outputs": []
    },
    {
      "cell_type": "markdown",
      "metadata": {
        "id": "ThXSUb5M_Lcf"
      },
      "source": [
        "## Testando os resultados utilizando um modelo baseado em Árvore de Decisão"
      ]
    },
    {
      "cell_type": "markdown",
      "metadata": {
        "id": "-jvwfKHb_Vjg"
      },
      "source": [
        "Treinando o modelo e gerando o modelo"
      ]
    },
    {
      "cell_type": "code",
      "metadata": {
        "id": "kjTMIArv_UjD"
      },
      "source": [
        "tree = DecisionTreeRegressor() #instancia do modelo\n",
        "model_tree = tree.fit(X_train,y_train)\n",
        "resultado_tree = tree.predict(X_test)"
      ],
      "execution_count": null,
      "outputs": []
    },
    {
      "cell_type": "markdown",
      "metadata": {
        "id": "WADCrXxZ_2On"
      },
      "source": [
        "Calculando o erro médio quadrático"
      ]
    },
    {
      "cell_type": "code",
      "metadata": {
        "id": "ZRp5dAPe_yh5"
      },
      "source": [
        "#mean_squared_error(y_test,resultado_tree)"
      ],
      "execution_count": null,
      "outputs": []
    },
    {
      "cell_type": "markdown",
      "metadata": {
        "id": "LB07TgukAAXD"
      },
      "source": [
        "Computando o Score"
      ]
    },
    {
      "cell_type": "code",
      "metadata": {
        "id": "rCxlCW4J_-nH"
      },
      "source": [
        "model_tree.score(X_test,y_test)"
      ],
      "execution_count": null,
      "outputs": []
    },
    {
      "cell_type": "markdown",
      "metadata": {
        "id": "aGpa7n1MAdW1"
      },
      "source": [
        "# Melhorando os resultados utilizando Random Forest"
      ]
    },
    {
      "cell_type": "code",
      "metadata": {
        "id": "MKGkdsUcAkAS"
      },
      "source": [
        "tree_rf = RandomForestRegressor()\n",
        "model_rf = tree_rf.fit(X_train,y_train)\n",
        "resultado_rf = model_rf.predict(X_test)"
      ],
      "execution_count": null,
      "outputs": []
    },
    {
      "cell_type": "markdown",
      "metadata": {
        "id": "nOA91bXuA-qi"
      },
      "source": [
        "Calculando o erro médio quadrático"
      ]
    },
    {
      "cell_type": "code",
      "metadata": {
        "id": "00cXxG3KBBe6"
      },
      "source": [
        "#mean_squared_error(y_test,resultado_rf)"
      ],
      "execution_count": null,
      "outputs": []
    },
    {
      "cell_type": "markdown",
      "metadata": {
        "id": "OcKdusaFBIF-"
      },
      "source": [
        "Computando o score"
      ]
    },
    {
      "cell_type": "code",
      "metadata": {
        "id": "G1MlZmXrBGP4"
      },
      "source": [
        "model_rf.score(X_test,y_test)"
      ],
      "execution_count": null,
      "outputs": []
    },
    {
      "cell_type": "markdown",
      "metadata": {
        "id": "XS-gVlqiBWyX"
      },
      "source": [
        "Ajustando hiper-parametros do Random Forest"
      ]
    },
    {
      "cell_type": "code",
      "metadata": {
        "id": "_BiVGecIBb2u"
      },
      "source": [
        "from sklearn.model_selection import GridSearchCV"
      ],
      "execution_count": null,
      "outputs": []
    },
    {
      "cell_type": "markdown",
      "metadata": {
        "id": "D1BTVeIjBjUh"
      },
      "source": [
        "Especificando os parâmetros de tunning"
      ]
    },
    {
      "cell_type": "code",
      "metadata": {
        "id": "hPUVYatGBmLS"
      },
      "source": [
        "parametros = {'min_samples_leaf':[1,10],'min_samples_split':[2,10],'n_estimators':[100,250,500,750]}"
      ],
      "execution_count": null,
      "outputs": []
    },
    {
      "cell_type": "markdown",
      "metadata": {
        "id": "DiG0yfA-B5hJ"
      },
      "source": [
        "Instanciando o Random Forest e GridSearch"
      ]
    },
    {
      "cell_type": "code",
      "metadata": {
        "id": "PSI7nfKbCCNI"
      },
      "source": [
        "rf = RandomForestRegressor()\n",
        "grid = GridSearchCV(rf,parametros)"
      ],
      "execution_count": null,
      "outputs": []
    },
    {
      "cell_type": "markdown",
      "metadata": {
        "id": "00Ew2YBhCKpe"
      },
      "source": [
        "Executando o Grid"
      ]
    },
    {
      "cell_type": "code",
      "metadata": {
        "id": "jdnW8BeNCO4g"
      },
      "source": [
        "grid.fit(X_train,y_train)"
      ],
      "execution_count": null,
      "outputs": []
    },
    {
      "cell_type": "markdown",
      "metadata": {
        "id": "BioFkp89Ch-_"
      },
      "source": [
        "Verificando os melhores parâmetros"
      ]
    },
    {
      "cell_type": "code",
      "metadata": {
        "id": "4fAdhJq8CmM-"
      },
      "source": [
        "grid.best_params_"
      ],
      "execution_count": null,
      "outputs": []
    },
    {
      "cell_type": "markdown",
      "metadata": {
        "id": "oDoJ8cXwH-kf"
      },
      "source": [
        "Recuperando o melhor estimator"
      ]
    },
    {
      "cell_type": "code",
      "metadata": {
        "id": "kehKYX_9IBVf"
      },
      "source": [
        "rf_best = grid.best_estimator_"
      ],
      "execution_count": null,
      "outputs": []
    },
    {
      "cell_type": "markdown",
      "metadata": {
        "id": "LEU1K7GfIGYj"
      },
      "source": [
        "Gerando o resultado final"
      ]
    },
    {
      "cell_type": "code",
      "metadata": {
        "id": "-cXsSdTrIJ9x"
      },
      "source": [
        "resultado_final = rf_best.predict(X_test)\n",
        "resultado_final"
      ],
      "execution_count": null,
      "outputs": []
    },
    {
      "cell_type": "markdown",
      "metadata": {
        "id": "KenDBpJAIRjI"
      },
      "source": [
        "Calculando o erro médio quadrático"
      ]
    },
    {
      "cell_type": "code",
      "metadata": {
        "id": "F44KenNwIUYH"
      },
      "source": [
        "mean_squared_error(y_test, resultado_final)"
      ],
      "execution_count": null,
      "outputs": []
    },
    {
      "cell_type": "markdown",
      "metadata": {
        "id": "A3j5gXIXIagW"
      },
      "source": [
        "Computando o score"
      ]
    },
    {
      "cell_type": "code",
      "metadata": {
        "id": "O5fAmrOgIZAS"
      },
      "source": [
        "rf_best.score(X_test,y_test)"
      ],
      "execution_count": null,
      "outputs": []
    },
    {
      "cell_type": "markdown",
      "metadata": {
        "id": "KXAzghtWNofY"
      },
      "source": [
        "# Salvando o modelo"
      ]
    },
    {
      "cell_type": "code",
      "metadata": {
        "id": "eL9zngz-Nrpu"
      },
      "source": [
        "import joblib\n",
        "joblib.dump(rf_best, '/content/drive/MyDrive/Colab Notebooks/bikePrevisao/model_rf_best.pkl')"
      ],
      "execution_count": null,
      "outputs": []
    },
    {
      "cell_type": "code",
      "metadata": {
        "id": "gkWxTWigRRn9"
      },
      "source": [
        "X_test.head()"
      ],
      "execution_count": null,
      "outputs": []
    },
    {
      "cell_type": "markdown",
      "metadata": {
        "id": "yjV4pHBTYmBt"
      },
      "source": [
        "# Formato de Dados que devem ser passados para entrada de um projeto armazenado e fazer a previsão:\n",
        "teste = np.array([['season', 'yr', 'mnth', 'hr', 'holiday', 'weekday','workingday', 'weathersit', 'temp', 'atemp', 'hum', 'windspeed']])\n",
        "![image.png](data:image/png;base64,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)"
      ]
    },
    {
      "cell_type": "code",
      "metadata": {
        "id": "I8uj7IczJCwI"
      },
      "source": [
        "#Nessa ordem\n",
        "#season: estação do ano (1:inverno,2:primavera,3:verão,4:outono)\n",
        "# yr --> Ano 1 = 2012 ou 0 = 2011\n",
        "#mes --> 1 a 12\n",
        "# hr -> 0 a 23\n",
        "# holiday--> feridado ou nao (1ou 0)\n",
        "# weekday --> Qual dia da semana --> 0 a 6\n",
        "#workinday --> dia de trabalho ->1 / feriado ou fim de semana -> 0\n",
        "# weathersit --> tempo --> limpo 1, nublado 2, chuva fraca ou garoa 3, chuva forte 4\n",
        "# temp --> temperatura temperatura normalizada em graus Célsius (normalizado)\n",
        "# atemp --> sensação de temperatura normalizada em graus Célsius (normalizado)\n",
        "#humidade (normalizado)\n",
        "#velocidade do vento (normalizado)\n",
        "\n",
        "X = np.array([[1,1,1,10,1,6,0,3,0.8,0.6,0.5,0.15]])\n",
        "teste_final = rf_best.predict(X)\n",
        "teste_final"
      ],
      "execution_count": null,
      "outputs": []
    }
  ]
}